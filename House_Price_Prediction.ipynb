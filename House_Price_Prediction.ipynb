{
  "nbformat": 4,
  "nbformat_minor": 0,
  "metadata": {
    "colab": {
      "provenance": []
    },
    "kernelspec": {
      "name": "python3",
      "display_name": "Python 3"
    },
    "language_info": {
      "name": "python"
    }
  },
  "cells": [
    {
      "cell_type": "code",
      "source": [
        "import seaborn as sns\n",
        "import matplotlib.pyplot as plt\n",
        "import pandas as pd\n",
        "import numpy as np\n",
        "from sklearn.compose import make_column_transformer\n",
        "from sklearn.impute import SimpleImputer\n",
        "from sklearn.preprocessing import MinMaxScaler, PolynomialFeatures,OneHotEncoder\n",
        "from sklearn.pipeline import make_pipeline, Pipeline\n",
        "from sklearn.linear_model import LinearRegression\n",
        "from sklearn.ensemble import RandomForestRegressor\n",
        "from sklearn.model_selection import train_test_split\n",
        "from sklearn.metrics import r2_score\n",
        "from sklearn.metrics import roc_curve, roc_auc_score, f1_score"
      ],
      "metadata": {
        "id": "oMH17W0hN-tR"
      },
      "execution_count": 1,
      "outputs": []
    },
    {
      "cell_type": "code",
      "source": [
        "train_df = pd.read_csv('/content/train.csv')\n",
        "\n",
        "# Exploratory data analysis\n",
        "exploring_data = train_df.dtypes[train_df.dtypes != 'object']\n",
        "\n",
        "def scatterplots(train_df):\n",
        "    for column in train_df.columns[train_df.dtypes != 'object']:\n",
        "        sns.scatterplot(x=column, y='SalePrice', data=train_df)\n",
        "        plt.title(f'Scatter plot of {column} vs SalePrice')\n",
        "        plt.show()\n",
        "\n",
        "# Filter data based on specific conditions\n",
        "train_df.query('OverallQual==10')\n",
        "train_df.query('YearBuilt<1900')\n",
        "train_df.query('LowQualFinSF>550')\n",
        "train_df.query('GrLivArea>4000')\n",
        "train_df.query('BsmtFullBath>2.5')\n",
        "train_df.query('BsmtHalfBath>1.75')\n",
        "train_df.query('BedroomAbvGr>7')\n",
        "train_df.query('TotRmsAbvGrd==14')\n",
        "train_df.query('Fireplaces==3')\n",
        "train_df.query('GarageArea>1200')\n",
        "train_df.query('WoodDeckSF>650')\n",
        "train_df.query('OpenPorchSF>400')\n",
        "train_df.query('EnclosedPorch>400')\n",
        "train_df.query('MiscVal>3000')\n",
        "train_df.query('YrSold==2007.0 & SalePrice>600000')\n",
        "\n",
        "values = [106, 185, 304, 583, 630, 716, 747, 809, 945, 991, 1132, 1137, 1292, 1349, 1416, 88, 250, 375, 378, 398, 676, 58, 70, 115, 297, 691, 808, 1169, 1289, 322, 1298, 224, 278, 477, 581, 678, 1267, 106, 185, 304, 583, 630, 716, 747, 809, 945, 991, 1132, 1137, 1292, 1349, 1416, 185, 523, 619, 1182, 1298, 738, 597, 954, 635, 166, 309, 605, 642, 1298, 581, 825, 1061, 1190, 1298, 55, 335, 1068, 1313, 1459, 495, 523, 583, 854, 1328, 197, 346, 705, 1230, 691, 1182]\n",
        "train_df = train_df[~train_df.Id.isin(values)]"
      ],
      "metadata": {
        "id": "QXqymGssOKYp"
      },
      "execution_count": 2,
      "outputs": []
    },
    {
      "cell_type": "code",
      "source": [
        "# Clean dataset\n",
        "train_df.columns = train_df.columns.str.strip()\n",
        "train_df = train_df.drop(['Id', 'KitchenAbvGr'], axis=1)\n",
        "\n",
        "# Separate numeric and object features\n",
        "numeric_features = train_df.select_dtypes(include=['int64', 'float64']).columns.tolist()\n",
        "object_features = train_df.select_dtypes(include=['object']).columns.tolist()"
      ],
      "metadata": {
        "id": "4xpefQIVOjG4"
      },
      "execution_count": 3,
      "outputs": []
    },
    {
      "cell_type": "code",
      "source": [
        "y = train_df['SalePrice']\n",
        "X = train_df.drop(['SalePrice'], axis=1)\n",
        "\n",
        "# Split dataset\n",
        "X_train, X_test, y_train, y_test = train_test_split(X,y, test_size=0.2, random_state=42)\n",
        "\n",
        "# Specify columns for transformation\n",
        "numerical_columns = X.select_dtypes(include=['int64', 'float64']).columns.tolist()\n",
        "categorical_columns= X.select_dtypes(include=['object']).columns.tolist()\n",
        "categorical_transformer= Pipeline(steps=[('imputer', SimpleImputer(strategy='most_frequent')),('onehot', OneHotEncoder(handle_unknown='ignore'))])\n",
        "\n",
        "# Pipeline for numeric features to handle missing values and object/string features\n",
        "numeric_transformer = Pipeline(steps=[('imputer', SimpleImputer(strategy='mean')),('scaler', MinMaxScaler()),])\n",
        "# Column Transformer\n",
        "trf1 = make_column_transformer((numeric_transformer, numerical_columns),(categorical_transformer,categorical_columns),remainder='passthrough')\n",
        "\n",
        "# Create the pipeline\n",
        "pipe = make_pipeline(trf1,LinearRegression())\n",
        "\n",
        "# Fit and predict\n",
        "pred= pipe.fit(X_train, y_train).predict(X_test)\n",
        "result = r2_score(y_test, pred)\n",
        "result"
      ],
      "metadata": {
        "colab": {
          "base_uri": "https://localhost:8080/"
        },
        "id": "nOj1FOhPOmac",
        "outputId": "b19e5883-b685-4ae6-e08c-21f4ae146610"
      },
      "execution_count": 4,
      "outputs": [
        {
          "output_type": "execute_result",
          "data": {
            "text/plain": [
              "0.8358551343939287"
            ]
          },
          "metadata": {},
          "execution_count": 4
        }
      ]
    }
  ]
}